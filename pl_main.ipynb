{
 "cells": [
  {
   "cell_type": "code",
   "execution_count": 1,
   "metadata": {},
   "outputs": [],
   "source": [
    "# required imports\n",
    "import requests\n",
    "import re\n",
    "from bs4 import BeautifulSoup\n",
    "import pandas as pd\n",
    "\n",
    "import warnings\n",
    "warnings.filterwarnings('ignore')"
   ]
  },
  {
   "cell_type": "code",
   "execution_count": 3,
   "metadata": {},
   "outputs": [],
   "source": [
    "#getting the club URLs\n",
    "pl_home_url = 'https://fbref.com/en/comps/9/Premier-League-Stats'\n",
    "pl_home_response = requests.get(pl_home_url, verify = False)\n",
    "pl_home_soup = BeautifulSoup(pl_home_response.content, 'html.parser')\n",
    "overall_teams_table = pl_home_soup.find('table', id = 'results2022-202391_overall')\n",
    "all_urls = [link.get('href') for link in overall_teams_table.findAll(\"a\")]\n",
    "team_urls = [url for url in all_urls if 'en/squads' in url]"
   ]
  },
  {
   "cell_type": "code",
   "execution_count": 4,
   "metadata": {},
   "outputs": [],
   "source": [
    "for team_url in team_urls:\n",
    "    response = requests.get('https://fbref.com' + team_url, verify = False)\n",
    "    team_soup = BeautifulSoup(response.content, 'html.parser')\n",
    "    team_table = team_soup.find('table', id = 'stats_standard_9')\n",
    "    team_name = team_url.split('/')[-1][:-6].replace('-', ' ')\n",
    "\n",
    "    for row in team_table.find_all('tr'):\n",
    "            positions = row.find_all(\"td\", {\"data-stat\" : \"position\"})\n",
    "            for position in positions:\n",
    "                if (position.text == 'FW'):\n",
    "                    player_name = row.find(\"th\", {\"data-stat\" : \"player\"}).text\n",
    "\n",
    "                    player_url = 'https://fbref.com' + row.find('a', attrs={'href': re.compile(\"/en/players\")}).get('href')\n",
    "                    all_matches_url = '/'.join(player_url.split('/')[:-1]) + '/matchlogs/2022-2023/c9/summary/' + player_url.split('/')[-1] + '-Match-Logs'\n",
    "                    pl_matches_url = all_matches_url.split('summary')[0] + 'c9/summary' + all_matches_url.split('summary')[1]\n",
    "\n",
    "                    filename = team_name + ' - ' + player_name + '.csv'\n",
    "        \n",
    "                    pl_match_log_response = requests.get(pl_matches_url, verify = False)\n",
    "                    pl_match_log_soup = BeautifulSoup(pl_match_log_response.content, 'html.parser')\n",
    "                    pl_match_log_table = pl_match_log_soup.find_all('table', id = 'matchlogs_2022-2023_9')\n",
    "\n",
    "                    if pl_match_log_table:\n",
    "                        df = pd.read_html(str(pl_match_log_table))[0]\n",
    "                        df.columns = df.columns.droplevel()\n",
    "                        df = df.drop(columns=['Match Report'])\n",
    "                        df = df.dropna()\n",
    "                        df.to_csv('PlayerData/' + filename, index=False)\n",
    "                    else: \n",
    "                        print(r\"Couldn't fetch data for \" + player_name + ' from ' + team_name)\n",
    "            \n"
   ]
  },
  {
   "cell_type": "code",
   "execution_count": null,
   "metadata": {},
   "outputs": [],
   "source": []
  }
 ],
 "metadata": {
  "kernelspec": {
   "display_name": "Python 3.8.8 ('base')",
   "language": "python",
   "name": "python3"
  },
  "language_info": {
   "codemirror_mode": {
    "name": "ipython",
    "version": 3
   },
   "file_extension": ".py",
   "mimetype": "text/x-python",
   "name": "python",
   "nbconvert_exporter": "python",
   "pygments_lexer": "ipython3",
   "version": "3.8.8"
  },
  "orig_nbformat": 4,
  "vscode": {
   "interpreter": {
    "hash": "ed6b3a0403832107687b859ad0640563ebaf117fcc5c77cbae8217110b9a0829"
   }
  }
 },
 "nbformat": 4,
 "nbformat_minor": 2
}
